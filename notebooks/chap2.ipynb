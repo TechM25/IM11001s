{
  "cells": [
    {
      "cell_type": "markdown",
      "id": "5ee3b8fc",
      "metadata": {
        "id": "5ee3b8fc"
      },
      "source": [
        "# Robotics, Vision & Control 3e: for Python\n",
        "## Chapter 2: Representing position & orientation\n",
        "\n",
        "Copyright (c) 2021- Peter Corke"
      ]
    },
    {
      "cell_type": "code",
      "execution_count": 5,
      "id": "9fa014e9",
      "metadata": {
        "id": "9fa014e9",
        "outputId": "b5852139-ebd4-4a88-ed9d-474dcff24700",
        "colab": {
          "base_uri": "https://localhost:8080/",
          "height": 1000
        }
      },
      "outputs": [
        {
          "output_type": "stream",
          "name": "stdout",
          "text": [
            "Running on CoLab\n",
            "Requirement already satisfied: ipympl in /usr/local/lib/python3.11/dist-packages (0.9.7)\n",
            "Requirement already satisfied: ipython<10 in /usr/local/lib/python3.11/dist-packages (from ipympl) (7.34.0)\n",
            "Requirement already satisfied: ipywidgets<9,>=7.6.0 in /usr/local/lib/python3.11/dist-packages (from ipympl) (7.7.1)\n",
            "Requirement already satisfied: matplotlib<4,>=3.5.0 in /usr/local/lib/python3.11/dist-packages (from ipympl) (3.10.0)\n",
            "Requirement already satisfied: numpy in /usr/local/lib/python3.11/dist-packages (from ipympl) (2.0.2)\n",
            "Requirement already satisfied: pillow in /usr/local/lib/python3.11/dist-packages (from ipympl) (11.3.0)\n",
            "Requirement already satisfied: traitlets<6 in /usr/local/lib/python3.11/dist-packages (from ipympl) (5.7.1)\n",
            "Requirement already satisfied: setuptools>=18.5 in /usr/local/lib/python3.11/dist-packages (from ipython<10->ipympl) (75.2.0)\n",
            "Requirement already satisfied: jedi>=0.16 in /usr/local/lib/python3.11/dist-packages (from ipython<10->ipympl) (0.19.2)\n",
            "Requirement already satisfied: decorator in /usr/local/lib/python3.11/dist-packages (from ipython<10->ipympl) (4.4.2)\n",
            "Requirement already satisfied: pickleshare in /usr/local/lib/python3.11/dist-packages (from ipython<10->ipympl) (0.7.5)\n",
            "Requirement already satisfied: prompt-toolkit!=3.0.0,!=3.0.1,<3.1.0,>=2.0.0 in /usr/local/lib/python3.11/dist-packages (from ipython<10->ipympl) (3.0.51)\n",
            "Requirement already satisfied: pygments in /usr/local/lib/python3.11/dist-packages (from ipython<10->ipympl) (2.19.2)\n",
            "Requirement already satisfied: backcall in /usr/local/lib/python3.11/dist-packages (from ipython<10->ipympl) (0.2.0)\n",
            "Requirement already satisfied: matplotlib-inline in /usr/local/lib/python3.11/dist-packages (from ipython<10->ipympl) (0.1.7)\n",
            "Requirement already satisfied: pexpect>4.3 in /usr/local/lib/python3.11/dist-packages (from ipython<10->ipympl) (4.9.0)\n",
            "Requirement already satisfied: ipykernel>=4.5.1 in /usr/local/lib/python3.11/dist-packages (from ipywidgets<9,>=7.6.0->ipympl) (6.17.1)\n",
            "Requirement already satisfied: ipython-genutils~=0.2.0 in /usr/local/lib/python3.11/dist-packages (from ipywidgets<9,>=7.6.0->ipympl) (0.2.0)\n",
            "Requirement already satisfied: widgetsnbextension~=3.6.0 in /usr/local/lib/python3.11/dist-packages (from ipywidgets<9,>=7.6.0->ipympl) (3.6.10)\n",
            "Requirement already satisfied: jupyterlab-widgets>=1.0.0 in /usr/local/lib/python3.11/dist-packages (from ipywidgets<9,>=7.6.0->ipympl) (3.0.15)\n",
            "Requirement already satisfied: contourpy>=1.0.1 in /usr/local/lib/python3.11/dist-packages (from matplotlib<4,>=3.5.0->ipympl) (1.3.3)\n",
            "Requirement already satisfied: cycler>=0.10 in /usr/local/lib/python3.11/dist-packages (from matplotlib<4,>=3.5.0->ipympl) (0.12.1)\n",
            "Requirement already satisfied: fonttools>=4.22.0 in /usr/local/lib/python3.11/dist-packages (from matplotlib<4,>=3.5.0->ipympl) (4.59.0)\n",
            "Requirement already satisfied: kiwisolver>=1.3.1 in /usr/local/lib/python3.11/dist-packages (from matplotlib<4,>=3.5.0->ipympl) (1.4.9)\n",
            "Requirement already satisfied: packaging>=20.0 in /usr/local/lib/python3.11/dist-packages (from matplotlib<4,>=3.5.0->ipympl) (25.0)\n",
            "Requirement already satisfied: pyparsing>=2.3.1 in /usr/local/lib/python3.11/dist-packages (from matplotlib<4,>=3.5.0->ipympl) (3.2.3)\n",
            "Requirement already satisfied: python-dateutil>=2.7 in /usr/local/lib/python3.11/dist-packages (from matplotlib<4,>=3.5.0->ipympl) (2.9.0.post0)\n",
            "Requirement already satisfied: debugpy>=1.0 in /usr/local/lib/python3.11/dist-packages (from ipykernel>=4.5.1->ipywidgets<9,>=7.6.0->ipympl) (1.8.15)\n",
            "Requirement already satisfied: jupyter-client>=6.1.12 in /usr/local/lib/python3.11/dist-packages (from ipykernel>=4.5.1->ipywidgets<9,>=7.6.0->ipympl) (6.1.12)\n",
            "Requirement already satisfied: nest-asyncio in /usr/local/lib/python3.11/dist-packages (from ipykernel>=4.5.1->ipywidgets<9,>=7.6.0->ipympl) (1.6.0)\n",
            "Requirement already satisfied: psutil in /usr/local/lib/python3.11/dist-packages (from ipykernel>=4.5.1->ipywidgets<9,>=7.6.0->ipympl) (5.9.5)\n",
            "Requirement already satisfied: pyzmq>=17 in /usr/local/lib/python3.11/dist-packages (from ipykernel>=4.5.1->ipywidgets<9,>=7.6.0->ipympl) (26.2.1)\n",
            "Requirement already satisfied: tornado>=6.1 in /usr/local/lib/python3.11/dist-packages (from ipykernel>=4.5.1->ipywidgets<9,>=7.6.0->ipympl) (6.4.2)\n",
            "Requirement already satisfied: parso<0.9.0,>=0.8.4 in /usr/local/lib/python3.11/dist-packages (from jedi>=0.16->ipython<10->ipympl) (0.8.4)\n",
            "Requirement already satisfied: ptyprocess>=0.5 in /usr/local/lib/python3.11/dist-packages (from pexpect>4.3->ipython<10->ipympl) (0.7.0)\n",
            "Requirement already satisfied: wcwidth in /usr/local/lib/python3.11/dist-packages (from prompt-toolkit!=3.0.0,!=3.0.1,<3.1.0,>=2.0.0->ipython<10->ipympl) (0.2.13)\n",
            "Requirement already satisfied: six>=1.5 in /usr/local/lib/python3.11/dist-packages (from python-dateutil>=2.7->matplotlib<4,>=3.5.0->ipympl) (1.17.0)\n",
            "Requirement already satisfied: notebook>=4.4.1 in /usr/local/lib/python3.11/dist-packages (from widgetsnbextension~=3.6.0->ipywidgets<9,>=7.6.0->ipympl) (6.5.7)\n",
            "Requirement already satisfied: jupyter-core>=4.6.0 in /usr/local/lib/python3.11/dist-packages (from jupyter-client>=6.1.12->ipykernel>=4.5.1->ipywidgets<9,>=7.6.0->ipympl) (5.8.1)\n",
            "Requirement already satisfied: jinja2 in /usr/local/lib/python3.11/dist-packages (from notebook>=4.4.1->widgetsnbextension~=3.6.0->ipywidgets<9,>=7.6.0->ipympl) (3.1.6)\n",
            "Requirement already satisfied: argon2-cffi in /usr/local/lib/python3.11/dist-packages (from notebook>=4.4.1->widgetsnbextension~=3.6.0->ipywidgets<9,>=7.6.0->ipympl) (25.1.0)\n",
            "Requirement already satisfied: nbformat in /usr/local/lib/python3.11/dist-packages (from notebook>=4.4.1->widgetsnbextension~=3.6.0->ipywidgets<9,>=7.6.0->ipympl) (5.10.4)\n",
            "Requirement already satisfied: nbconvert>=5 in /usr/local/lib/python3.11/dist-packages (from notebook>=4.4.1->widgetsnbextension~=3.6.0->ipywidgets<9,>=7.6.0->ipympl) (7.16.6)\n",
            "Requirement already satisfied: Send2Trash>=1.8.0 in /usr/local/lib/python3.11/dist-packages (from notebook>=4.4.1->widgetsnbextension~=3.6.0->ipywidgets<9,>=7.6.0->ipympl) (1.8.3)\n",
            "Requirement already satisfied: terminado>=0.8.3 in /usr/local/lib/python3.11/dist-packages (from notebook>=4.4.1->widgetsnbextension~=3.6.0->ipywidgets<9,>=7.6.0->ipympl) (0.18.1)\n",
            "Requirement already satisfied: prometheus-client in /usr/local/lib/python3.11/dist-packages (from notebook>=4.4.1->widgetsnbextension~=3.6.0->ipywidgets<9,>=7.6.0->ipympl) (0.22.1)\n",
            "Requirement already satisfied: nbclassic>=0.4.7 in /usr/local/lib/python3.11/dist-packages (from notebook>=4.4.1->widgetsnbextension~=3.6.0->ipywidgets<9,>=7.6.0->ipympl) (1.3.1)\n",
            "Requirement already satisfied: platformdirs>=2.5 in /usr/local/lib/python3.11/dist-packages (from jupyter-core>=4.6.0->jupyter-client>=6.1.12->ipykernel>=4.5.1->ipywidgets<9,>=7.6.0->ipympl) (4.3.8)\n",
            "Requirement already satisfied: notebook-shim>=0.2.3 in /usr/local/lib/python3.11/dist-packages (from nbclassic>=0.4.7->notebook>=4.4.1->widgetsnbextension~=3.6.0->ipywidgets<9,>=7.6.0->ipympl) (0.2.4)\n",
            "Requirement already satisfied: beautifulsoup4 in /usr/local/lib/python3.11/dist-packages (from nbconvert>=5->notebook>=4.4.1->widgetsnbextension~=3.6.0->ipywidgets<9,>=7.6.0->ipympl) (4.13.4)\n",
            "Requirement already satisfied: bleach!=5.0.0 in /usr/local/lib/python3.11/dist-packages (from bleach[css]!=5.0.0->nbconvert>=5->notebook>=4.4.1->widgetsnbextension~=3.6.0->ipywidgets<9,>=7.6.0->ipympl) (6.2.0)\n",
            "Requirement already satisfied: defusedxml in /usr/local/lib/python3.11/dist-packages (from nbconvert>=5->notebook>=4.4.1->widgetsnbextension~=3.6.0->ipywidgets<9,>=7.6.0->ipympl) (0.7.1)\n",
            "Requirement already satisfied: jupyterlab-pygments in /usr/local/lib/python3.11/dist-packages (from nbconvert>=5->notebook>=4.4.1->widgetsnbextension~=3.6.0->ipywidgets<9,>=7.6.0->ipympl) (0.3.0)\n",
            "Requirement already satisfied: markupsafe>=2.0 in /usr/local/lib/python3.11/dist-packages (from nbconvert>=5->notebook>=4.4.1->widgetsnbextension~=3.6.0->ipywidgets<9,>=7.6.0->ipympl) (3.0.2)\n",
            "Requirement already satisfied: mistune<4,>=2.0.3 in /usr/local/lib/python3.11/dist-packages (from nbconvert>=5->notebook>=4.4.1->widgetsnbextension~=3.6.0->ipywidgets<9,>=7.6.0->ipympl) (3.1.3)\n",
            "Requirement already satisfied: nbclient>=0.5.0 in /usr/local/lib/python3.11/dist-packages (from nbconvert>=5->notebook>=4.4.1->widgetsnbextension~=3.6.0->ipywidgets<9,>=7.6.0->ipympl) (0.10.2)\n",
            "Requirement already satisfied: pandocfilters>=1.4.1 in /usr/local/lib/python3.11/dist-packages (from nbconvert>=5->notebook>=4.4.1->widgetsnbextension~=3.6.0->ipywidgets<9,>=7.6.0->ipympl) (1.5.1)\n",
            "Requirement already satisfied: fastjsonschema>=2.15 in /usr/local/lib/python3.11/dist-packages (from nbformat->notebook>=4.4.1->widgetsnbextension~=3.6.0->ipywidgets<9,>=7.6.0->ipympl) (2.21.1)\n",
            "Requirement already satisfied: jsonschema>=2.6 in /usr/local/lib/python3.11/dist-packages (from nbformat->notebook>=4.4.1->widgetsnbextension~=3.6.0->ipywidgets<9,>=7.6.0->ipympl) (4.25.0)\n",
            "Requirement already satisfied: argon2-cffi-bindings in /usr/local/lib/python3.11/dist-packages (from argon2-cffi->notebook>=4.4.1->widgetsnbextension~=3.6.0->ipywidgets<9,>=7.6.0->ipympl) (25.1.0)\n",
            "Requirement already satisfied: webencodings in /usr/local/lib/python3.11/dist-packages (from bleach!=5.0.0->bleach[css]!=5.0.0->nbconvert>=5->notebook>=4.4.1->widgetsnbextension~=3.6.0->ipywidgets<9,>=7.6.0->ipympl) (0.5.1)\n",
            "Requirement already satisfied: tinycss2<1.5,>=1.1.0 in /usr/local/lib/python3.11/dist-packages (from bleach[css]!=5.0.0->nbconvert>=5->notebook>=4.4.1->widgetsnbextension~=3.6.0->ipywidgets<9,>=7.6.0->ipympl) (1.4.0)\n",
            "Requirement already satisfied: attrs>=22.2.0 in /usr/local/lib/python3.11/dist-packages (from jsonschema>=2.6->nbformat->notebook>=4.4.1->widgetsnbextension~=3.6.0->ipywidgets<9,>=7.6.0->ipympl) (25.3.0)\n",
            "Requirement already satisfied: jsonschema-specifications>=2023.03.6 in /usr/local/lib/python3.11/dist-packages (from jsonschema>=2.6->nbformat->notebook>=4.4.1->widgetsnbextension~=3.6.0->ipywidgets<9,>=7.6.0->ipympl) (2025.4.1)\n",
            "Requirement already satisfied: referencing>=0.28.4 in /usr/local/lib/python3.11/dist-packages (from jsonschema>=2.6->nbformat->notebook>=4.4.1->widgetsnbextension~=3.6.0->ipywidgets<9,>=7.6.0->ipympl) (0.36.2)\n",
            "Requirement already satisfied: rpds-py>=0.7.1 in /usr/local/lib/python3.11/dist-packages (from jsonschema>=2.6->nbformat->notebook>=4.4.1->widgetsnbextension~=3.6.0->ipywidgets<9,>=7.6.0->ipympl) (0.27.0)\n",
            "Requirement already satisfied: jupyter-server<3,>=1.8 in /usr/local/lib/python3.11/dist-packages (from notebook-shim>=0.2.3->nbclassic>=0.4.7->notebook>=4.4.1->widgetsnbextension~=3.6.0->ipywidgets<9,>=7.6.0->ipympl) (1.16.0)\n",
            "Requirement already satisfied: cffi>=1.0.1 in /usr/local/lib/python3.11/dist-packages (from argon2-cffi-bindings->argon2-cffi->notebook>=4.4.1->widgetsnbextension~=3.6.0->ipywidgets<9,>=7.6.0->ipympl) (1.17.1)\n",
            "Requirement already satisfied: soupsieve>1.2 in /usr/local/lib/python3.11/dist-packages (from beautifulsoup4->nbconvert>=5->notebook>=4.4.1->widgetsnbextension~=3.6.0->ipywidgets<9,>=7.6.0->ipympl) (2.7)\n",
            "Requirement already satisfied: typing-extensions>=4.0.0 in /usr/local/lib/python3.11/dist-packages (from beautifulsoup4->nbconvert>=5->notebook>=4.4.1->widgetsnbextension~=3.6.0->ipywidgets<9,>=7.6.0->ipympl) (4.14.1)\n",
            "Requirement already satisfied: pycparser in /usr/local/lib/python3.11/dist-packages (from cffi>=1.0.1->argon2-cffi-bindings->argon2-cffi->notebook>=4.4.1->widgetsnbextension~=3.6.0->ipywidgets<9,>=7.6.0->ipympl) (2.22)\n",
            "Requirement already satisfied: anyio>=3.1.0 in /usr/local/lib/python3.11/dist-packages (from jupyter-server<3,>=1.8->notebook-shim>=0.2.3->nbclassic>=0.4.7->notebook>=4.4.1->widgetsnbextension~=3.6.0->ipywidgets<9,>=7.6.0->ipympl) (4.10.0)\n",
            "Requirement already satisfied: websocket-client in /usr/local/lib/python3.11/dist-packages (from jupyter-server<3,>=1.8->notebook-shim>=0.2.3->nbclassic>=0.4.7->notebook>=4.4.1->widgetsnbextension~=3.6.0->ipywidgets<9,>=7.6.0->ipympl) (1.8.0)\n",
            "Requirement already satisfied: idna>=2.8 in /usr/local/lib/python3.11/dist-packages (from anyio>=3.1.0->jupyter-server<3,>=1.8->notebook-shim>=0.2.3->nbclassic>=0.4.7->notebook>=4.4.1->widgetsnbextension~=3.6.0->ipywidgets<9,>=7.6.0->ipympl) (3.10)\n",
            "Requirement already satisfied: sniffio>=1.1 in /usr/local/lib/python3.11/dist-packages (from anyio>=3.1.0->jupyter-server<3,>=1.8->notebook-shim>=0.2.3->nbclassic>=0.4.7->notebook>=4.4.1->widgetsnbextension~=3.6.0->ipywidgets<9,>=7.6.0->ipympl) (1.3.1)\n",
            "Requirement already satisfied: spatialmath-python in /usr/local/lib/python3.11/dist-packages (1.1.14)\n",
            "Requirement already satisfied: numpy>=1.22 in /usr/local/lib/python3.11/dist-packages (from spatialmath-python) (2.0.2)\n",
            "Requirement already satisfied: scipy in /usr/local/lib/python3.11/dist-packages (from spatialmath-python) (1.16.1)\n",
            "Requirement already satisfied: matplotlib in /usr/local/lib/python3.11/dist-packages (from spatialmath-python) (3.10.0)\n",
            "Requirement already satisfied: ansitable in /usr/local/lib/python3.11/dist-packages (from spatialmath-python) (0.11.4)\n",
            "Requirement already satisfied: typing-extensions in /usr/local/lib/python3.11/dist-packages (from spatialmath-python) (4.14.1)\n",
            "Requirement already satisfied: pre-commit in /usr/local/lib/python3.11/dist-packages (from spatialmath-python) (4.3.0)\n",
            "Requirement already satisfied: colored in /usr/local/lib/python3.11/dist-packages (from ansitable->spatialmath-python) (2.3.1)\n",
            "Requirement already satisfied: contourpy>=1.0.1 in /usr/local/lib/python3.11/dist-packages (from matplotlib->spatialmath-python) (1.3.3)\n",
            "Requirement already satisfied: cycler>=0.10 in /usr/local/lib/python3.11/dist-packages (from matplotlib->spatialmath-python) (0.12.1)\n",
            "Requirement already satisfied: fonttools>=4.22.0 in /usr/local/lib/python3.11/dist-packages (from matplotlib->spatialmath-python) (4.59.0)\n",
            "Requirement already satisfied: kiwisolver>=1.3.1 in /usr/local/lib/python3.11/dist-packages (from matplotlib->spatialmath-python) (1.4.9)\n",
            "Requirement already satisfied: packaging>=20.0 in /usr/local/lib/python3.11/dist-packages (from matplotlib->spatialmath-python) (25.0)\n",
            "Requirement already satisfied: pillow>=8 in /usr/local/lib/python3.11/dist-packages (from matplotlib->spatialmath-python) (11.3.0)\n",
            "Requirement already satisfied: pyparsing>=2.3.1 in /usr/local/lib/python3.11/dist-packages (from matplotlib->spatialmath-python) (3.2.3)\n",
            "Requirement already satisfied: python-dateutil>=2.7 in /usr/local/lib/python3.11/dist-packages (from matplotlib->spatialmath-python) (2.9.0.post0)\n",
            "Requirement already satisfied: cfgv>=2.0.0 in /usr/local/lib/python3.11/dist-packages (from pre-commit->spatialmath-python) (3.4.0)\n",
            "Requirement already satisfied: identify>=1.0.0 in /usr/local/lib/python3.11/dist-packages (from pre-commit->spatialmath-python) (2.6.13)\n",
            "Requirement already satisfied: nodeenv>=0.11.1 in /usr/local/lib/python3.11/dist-packages (from pre-commit->spatialmath-python) (1.9.1)\n",
            "Requirement already satisfied: pyyaml>=5.1 in /usr/local/lib/python3.11/dist-packages (from pre-commit->spatialmath-python) (6.0.2)\n",
            "Requirement already satisfied: virtualenv>=20.10.0 in /usr/local/lib/python3.11/dist-packages (from pre-commit->spatialmath-python) (20.34.0)\n",
            "Requirement already satisfied: six>=1.5 in /usr/local/lib/python3.11/dist-packages (from python-dateutil>=2.7->matplotlib->spatialmath-python) (1.17.0)\n",
            "Requirement already satisfied: distlib<1,>=0.3.7 in /usr/local/lib/python3.11/dist-packages (from virtualenv>=20.10.0->pre-commit->spatialmath-python) (0.4.0)\n",
            "Requirement already satisfied: filelock<4,>=3.12.2 in /usr/local/lib/python3.11/dist-packages (from virtualenv>=20.10.0->pre-commit->spatialmath-python) (3.18.0)\n",
            "Requirement already satisfied: platformdirs<5,>=3.9.1 in /usr/local/lib/python3.11/dist-packages (from virtualenv>=20.10.0->pre-commit->spatialmath-python) (4.3.8)\n",
            "Warning: Cannot change to a different GUI toolkit: notebook. Using widget instead.\n"
          ]
        },
        {
          "output_type": "error",
          "ename": "ValueError",
          "evalue": "Key backend: 'module://ipympl.backend_nbagg' is not a valid value for backend; supported values are ['gtk3agg', 'gtk3cairo', 'gtk4agg', 'gtk4cairo', 'macosx', 'nbagg', 'notebook', 'qtagg', 'qtcairo', 'qt5agg', 'qt5cairo', 'tkagg', 'tkcairo', 'webagg', 'wx', 'wxagg', 'wxcairo', 'agg', 'cairo', 'pdf', 'pgf', 'ps', 'svg', 'template', 'inline']",
          "traceback": [
            "\u001b[0;31m---------------------------------------------------------------------------\u001b[0m",
            "\u001b[0;31mValueError\u001b[0m                                Traceback (most recent call last)",
            "\u001b[0;32m/tmp/ipython-input-3622949308.py\u001b[0m in \u001b[0;36m<cell line: 0>\u001b[0;34m()\u001b[0m\n\u001b[1;32m     17\u001b[0m \u001b[0;32mimport\u001b[0m \u001b[0mnumpy\u001b[0m \u001b[0;32mas\u001b[0m \u001b[0mnp\u001b[0m\u001b[0;34m\u001b[0m\u001b[0;34m\u001b[0m\u001b[0m\n\u001b[1;32m     18\u001b[0m \u001b[0;32mfrom\u001b[0m \u001b[0mscipy\u001b[0m \u001b[0;32mimport\u001b[0m \u001b[0mlinalg\u001b[0m\u001b[0;34m\u001b[0m\u001b[0;34m\u001b[0m\u001b[0m\n\u001b[0;32m---> 19\u001b[0;31m \u001b[0mget_ipython\u001b[0m\u001b[0;34m(\u001b[0m\u001b[0;34m)\u001b[0m\u001b[0;34m.\u001b[0m\u001b[0mrun_line_magic\u001b[0m\u001b[0;34m(\u001b[0m\u001b[0;34m'matplotlib'\u001b[0m\u001b[0;34m,\u001b[0m \u001b[0;34m'notebook'\u001b[0m\u001b[0;34m)\u001b[0m\u001b[0;34m\u001b[0m\u001b[0;34m\u001b[0m\u001b[0m\n\u001b[0m\u001b[1;32m     20\u001b[0m \u001b[0;32mimport\u001b[0m \u001b[0mmatplotlib\u001b[0m\u001b[0;34m.\u001b[0m\u001b[0mpyplot\u001b[0m \u001b[0;32mas\u001b[0m \u001b[0mplt\u001b[0m\u001b[0;34m\u001b[0m\u001b[0;34m\u001b[0m\u001b[0m\n\u001b[1;32m     21\u001b[0m \u001b[0;32mimport\u001b[0m \u001b[0mmath\u001b[0m\u001b[0;34m\u001b[0m\u001b[0;34m\u001b[0m\u001b[0m\n",
            "\u001b[0;32m/usr/local/lib/python3.11/dist-packages/IPython/core/interactiveshell.py\u001b[0m in \u001b[0;36mrun_line_magic\u001b[0;34m(self, magic_name, line, _stack_depth)\u001b[0m\n\u001b[1;32m   2416\u001b[0m                 \u001b[0mkwargs\u001b[0m\u001b[0;34m[\u001b[0m\u001b[0;34m'local_ns'\u001b[0m\u001b[0;34m]\u001b[0m \u001b[0;34m=\u001b[0m \u001b[0mself\u001b[0m\u001b[0;34m.\u001b[0m\u001b[0mget_local_scope\u001b[0m\u001b[0;34m(\u001b[0m\u001b[0mstack_depth\u001b[0m\u001b[0;34m)\u001b[0m\u001b[0;34m\u001b[0m\u001b[0;34m\u001b[0m\u001b[0m\n\u001b[1;32m   2417\u001b[0m             \u001b[0;32mwith\u001b[0m \u001b[0mself\u001b[0m\u001b[0;34m.\u001b[0m\u001b[0mbuiltin_trap\u001b[0m\u001b[0;34m:\u001b[0m\u001b[0;34m\u001b[0m\u001b[0;34m\u001b[0m\u001b[0m\n\u001b[0;32m-> 2418\u001b[0;31m                 \u001b[0mresult\u001b[0m \u001b[0;34m=\u001b[0m \u001b[0mfn\u001b[0m\u001b[0;34m(\u001b[0m\u001b[0;34m*\u001b[0m\u001b[0margs\u001b[0m\u001b[0;34m,\u001b[0m \u001b[0;34m**\u001b[0m\u001b[0mkwargs\u001b[0m\u001b[0;34m)\u001b[0m\u001b[0;34m\u001b[0m\u001b[0;34m\u001b[0m\u001b[0m\n\u001b[0m\u001b[1;32m   2419\u001b[0m             \u001b[0;32mreturn\u001b[0m \u001b[0mresult\u001b[0m\u001b[0;34m\u001b[0m\u001b[0;34m\u001b[0m\u001b[0m\n\u001b[1;32m   2420\u001b[0m \u001b[0;34m\u001b[0m\u001b[0m\n",
            "\u001b[0;32m<decorator-gen-101>\u001b[0m in \u001b[0;36mmatplotlib\u001b[0;34m(self, line)\u001b[0m\n",
            "\u001b[0;32m/usr/local/lib/python3.11/dist-packages/IPython/core/magic.py\u001b[0m in \u001b[0;36m<lambda>\u001b[0;34m(f, *a, **k)\u001b[0m\n\u001b[1;32m    185\u001b[0m     \u001b[0;31m# but it's overkill for just that one bit of state.\u001b[0m\u001b[0;34m\u001b[0m\u001b[0;34m\u001b[0m\u001b[0m\n\u001b[1;32m    186\u001b[0m     \u001b[0;32mdef\u001b[0m \u001b[0mmagic_deco\u001b[0m\u001b[0;34m(\u001b[0m\u001b[0marg\u001b[0m\u001b[0;34m)\u001b[0m\u001b[0;34m:\u001b[0m\u001b[0;34m\u001b[0m\u001b[0;34m\u001b[0m\u001b[0m\n\u001b[0;32m--> 187\u001b[0;31m         \u001b[0mcall\u001b[0m \u001b[0;34m=\u001b[0m \u001b[0;32mlambda\u001b[0m \u001b[0mf\u001b[0m\u001b[0;34m,\u001b[0m \u001b[0;34m*\u001b[0m\u001b[0ma\u001b[0m\u001b[0;34m,\u001b[0m \u001b[0;34m**\u001b[0m\u001b[0mk\u001b[0m\u001b[0;34m:\u001b[0m \u001b[0mf\u001b[0m\u001b[0;34m(\u001b[0m\u001b[0;34m*\u001b[0m\u001b[0ma\u001b[0m\u001b[0;34m,\u001b[0m \u001b[0;34m**\u001b[0m\u001b[0mk\u001b[0m\u001b[0;34m)\u001b[0m\u001b[0;34m\u001b[0m\u001b[0;34m\u001b[0m\u001b[0m\n\u001b[0m\u001b[1;32m    188\u001b[0m \u001b[0;34m\u001b[0m\u001b[0m\n\u001b[1;32m    189\u001b[0m         \u001b[0;32mif\u001b[0m \u001b[0mcallable\u001b[0m\u001b[0;34m(\u001b[0m\u001b[0marg\u001b[0m\u001b[0;34m)\u001b[0m\u001b[0;34m:\u001b[0m\u001b[0;34m\u001b[0m\u001b[0;34m\u001b[0m\u001b[0m\n",
            "\u001b[0;32m/usr/local/lib/python3.11/dist-packages/IPython/core/magics/pylab.py\u001b[0m in \u001b[0;36mmatplotlib\u001b[0;34m(self, line)\u001b[0m\n\u001b[1;32m     97\u001b[0m             \u001b[0mprint\u001b[0m\u001b[0;34m(\u001b[0m\u001b[0;34m\"Available matplotlib backends: %s\"\u001b[0m \u001b[0;34m%\u001b[0m \u001b[0mbackends_list\u001b[0m\u001b[0;34m)\u001b[0m\u001b[0;34m\u001b[0m\u001b[0;34m\u001b[0m\u001b[0m\n\u001b[1;32m     98\u001b[0m         \u001b[0;32melse\u001b[0m\u001b[0;34m:\u001b[0m\u001b[0;34m\u001b[0m\u001b[0;34m\u001b[0m\u001b[0m\n\u001b[0;32m---> 99\u001b[0;31m             \u001b[0mgui\u001b[0m\u001b[0;34m,\u001b[0m \u001b[0mbackend\u001b[0m \u001b[0;34m=\u001b[0m \u001b[0mself\u001b[0m\u001b[0;34m.\u001b[0m\u001b[0mshell\u001b[0m\u001b[0;34m.\u001b[0m\u001b[0menable_matplotlib\u001b[0m\u001b[0;34m(\u001b[0m\u001b[0margs\u001b[0m\u001b[0;34m.\u001b[0m\u001b[0mgui\u001b[0m\u001b[0;34m.\u001b[0m\u001b[0mlower\u001b[0m\u001b[0;34m(\u001b[0m\u001b[0;34m)\u001b[0m \u001b[0;32mif\u001b[0m \u001b[0misinstance\u001b[0m\u001b[0;34m(\u001b[0m\u001b[0margs\u001b[0m\u001b[0;34m.\u001b[0m\u001b[0mgui\u001b[0m\u001b[0;34m,\u001b[0m \u001b[0mstr\u001b[0m\u001b[0;34m)\u001b[0m \u001b[0;32melse\u001b[0m \u001b[0margs\u001b[0m\u001b[0;34m.\u001b[0m\u001b[0mgui\u001b[0m\u001b[0;34m)\u001b[0m\u001b[0;34m\u001b[0m\u001b[0;34m\u001b[0m\u001b[0m\n\u001b[0m\u001b[1;32m    100\u001b[0m             \u001b[0mself\u001b[0m\u001b[0;34m.\u001b[0m\u001b[0m_show_matplotlib_backend\u001b[0m\u001b[0;34m(\u001b[0m\u001b[0margs\u001b[0m\u001b[0;34m.\u001b[0m\u001b[0mgui\u001b[0m\u001b[0;34m,\u001b[0m \u001b[0mbackend\u001b[0m\u001b[0;34m)\u001b[0m\u001b[0;34m\u001b[0m\u001b[0;34m\u001b[0m\u001b[0m\n\u001b[1;32m    101\u001b[0m \u001b[0;34m\u001b[0m\u001b[0m\n",
            "\u001b[0;32m/usr/local/lib/python3.11/dist-packages/IPython/core/interactiveshell.py\u001b[0m in \u001b[0;36menable_matplotlib\u001b[0;34m(self, gui)\u001b[0m\n\u001b[1;32m   3645\u001b[0m                 \u001b[0mgui\u001b[0m\u001b[0;34m,\u001b[0m \u001b[0mbackend\u001b[0m \u001b[0;34m=\u001b[0m \u001b[0mpt\u001b[0m\u001b[0;34m.\u001b[0m\u001b[0mfind_gui_and_backend\u001b[0m\u001b[0;34m(\u001b[0m\u001b[0mself\u001b[0m\u001b[0;34m.\u001b[0m\u001b[0mpylab_gui_select\u001b[0m\u001b[0;34m)\u001b[0m\u001b[0;34m\u001b[0m\u001b[0;34m\u001b[0m\u001b[0m\n\u001b[1;32m   3646\u001b[0m \u001b[0;34m\u001b[0m\u001b[0m\n\u001b[0;32m-> 3647\u001b[0;31m         \u001b[0mpt\u001b[0m\u001b[0;34m.\u001b[0m\u001b[0mactivate_matplotlib\u001b[0m\u001b[0;34m(\u001b[0m\u001b[0mbackend\u001b[0m\u001b[0;34m)\u001b[0m\u001b[0;34m\u001b[0m\u001b[0;34m\u001b[0m\u001b[0m\n\u001b[0m\u001b[1;32m   3648\u001b[0m         \u001b[0mconfigure_inline_support\u001b[0m\u001b[0;34m(\u001b[0m\u001b[0mself\u001b[0m\u001b[0;34m,\u001b[0m \u001b[0mbackend\u001b[0m\u001b[0;34m)\u001b[0m\u001b[0;34m\u001b[0m\u001b[0;34m\u001b[0m\u001b[0m\n\u001b[1;32m   3649\u001b[0m \u001b[0;34m\u001b[0m\u001b[0m\n",
            "\u001b[0;32m/usr/local/lib/python3.11/dist-packages/IPython/core/pylabtools.py\u001b[0m in \u001b[0;36mactivate_matplotlib\u001b[0;34m(backend)\u001b[0m\n\u001b[1;32m    350\u001b[0m     \u001b[0;31m# the rcParam to update. This needs to be set *before* the module\u001b[0m\u001b[0;34m\u001b[0m\u001b[0;34m\u001b[0m\u001b[0m\n\u001b[1;32m    351\u001b[0m     \u001b[0;31m# magic of switch_backend().\u001b[0m\u001b[0;34m\u001b[0m\u001b[0;34m\u001b[0m\u001b[0m\n\u001b[0;32m--> 352\u001b[0;31m     \u001b[0mmatplotlib\u001b[0m\u001b[0;34m.\u001b[0m\u001b[0mrcParams\u001b[0m\u001b[0;34m[\u001b[0m\u001b[0;34m'backend'\u001b[0m\u001b[0;34m]\u001b[0m \u001b[0;34m=\u001b[0m \u001b[0mbackend\u001b[0m\u001b[0;34m\u001b[0m\u001b[0;34m\u001b[0m\u001b[0m\n\u001b[0m\u001b[1;32m    353\u001b[0m \u001b[0;34m\u001b[0m\u001b[0m\n\u001b[1;32m    354\u001b[0m     \u001b[0;31m# Due to circular imports, pyplot may be only partially initialised\u001b[0m\u001b[0;34m\u001b[0m\u001b[0;34m\u001b[0m\u001b[0m\n",
            "\u001b[0;32m/usr/local/lib/python3.11/dist-packages/matplotlib/__init__.py\u001b[0m in \u001b[0;36m__setitem__\u001b[0;34m(self, key, val)\u001b[0m\n\u001b[1;32m    769\u001b[0m                 \u001b[0mcval\u001b[0m \u001b[0;34m=\u001b[0m \u001b[0mself\u001b[0m\u001b[0;34m.\u001b[0m\u001b[0mvalidate\u001b[0m\u001b[0;34m[\u001b[0m\u001b[0mkey\u001b[0m\u001b[0;34m]\u001b[0m\u001b[0;34m(\u001b[0m\u001b[0mval\u001b[0m\u001b[0;34m)\u001b[0m\u001b[0;34m\u001b[0m\u001b[0;34m\u001b[0m\u001b[0m\n\u001b[1;32m    770\u001b[0m             \u001b[0;32mexcept\u001b[0m \u001b[0mValueError\u001b[0m \u001b[0;32mas\u001b[0m \u001b[0mve\u001b[0m\u001b[0;34m:\u001b[0m\u001b[0;34m\u001b[0m\u001b[0;34m\u001b[0m\u001b[0m\n\u001b[0;32m--> 771\u001b[0;31m                 \u001b[0;32mraise\u001b[0m \u001b[0mValueError\u001b[0m\u001b[0;34m(\u001b[0m\u001b[0;34mf\"Key {key}: {ve}\"\u001b[0m\u001b[0;34m)\u001b[0m \u001b[0;32mfrom\u001b[0m \u001b[0;32mNone\u001b[0m\u001b[0;34m\u001b[0m\u001b[0;34m\u001b[0m\u001b[0m\n\u001b[0m\u001b[1;32m    772\u001b[0m             \u001b[0mself\u001b[0m\u001b[0;34m.\u001b[0m\u001b[0m_set\u001b[0m\u001b[0;34m(\u001b[0m\u001b[0mkey\u001b[0m\u001b[0;34m,\u001b[0m \u001b[0mcval\u001b[0m\u001b[0;34m)\u001b[0m\u001b[0;34m\u001b[0m\u001b[0;34m\u001b[0m\u001b[0m\n\u001b[1;32m    773\u001b[0m         \u001b[0;32mexcept\u001b[0m \u001b[0mKeyError\u001b[0m \u001b[0;32mas\u001b[0m \u001b[0merr\u001b[0m\u001b[0;34m:\u001b[0m\u001b[0;34m\u001b[0m\u001b[0;34m\u001b[0m\u001b[0m\n",
            "\u001b[0;31mValueError\u001b[0m: Key backend: 'module://ipympl.backend_nbagg' is not a valid value for backend; supported values are ['gtk3agg', 'gtk3cairo', 'gtk4agg', 'gtk4cairo', 'macosx', 'nbagg', 'notebook', 'qtagg', 'qtcairo', 'qt5agg', 'qt5cairo', 'tkagg', 'tkcairo', 'webagg', 'wx', 'wxagg', 'wxcairo', 'agg', 'cairo', 'pdf', 'pgf', 'ps', 'svg', 'template', 'inline']"
          ]
        }
      ],
      "source": [
        "try:\n",
        "    from google.colab import output\n",
        "    print('Running on CoLab')\n",
        "    output.enable_custom_widget_manager()\n",
        "    !pip install ipympl\n",
        "    !pip install spatialmath-python\n",
        "    COLAB = True\n",
        "    SWIFT = False\n",
        "except ModuleNotFoundError:\n",
        "    COLAB = False\n",
        "    SWIFT = False\n",
        "from IPython.core.interactiveshell import InteractiveShell\n",
        "InteractiveShell.ast_node_interactivity = \"last_expr_or_assign\"\n",
        "from IPython.display import HTML\n",
        "\n",
        "# standard imports\n",
        "import numpy as np\n",
        "from scipy import linalg\n",
        "%matplotlib notebook\n",
        "import matplotlib.pyplot as plt\n",
        "import math\n",
        "from math import pi\n",
        "np.set_printoptions(\n",
        "    linewidth=120, formatter={\n",
        "        'float': lambda x: f\"{0:8.4g}\" if abs(x) < 1e-10 else f\"{x:8.4g}\"})\n",
        "np.random.seed(0)\n",
        "from spatialmath import *\n",
        "from spatialmath.base import *"
      ]
    },
    {
      "cell_type": "markdown",
      "id": "b1de4c86",
      "metadata": {
        "id": "b1de4c86"
      },
      "source": [
        "There are some minor code changes compared to the book. These are to support\n",
        "the Matplotlib widget (ipympl) backend.  This allows 3D plots to be rotated\n",
        "so the changes are worthwhile."
      ]
    },
    {
      "cell_type": "markdown",
      "id": "e8db33c6",
      "metadata": {
        "id": "e8db33c6"
      },
      "source": [
        "# 2.1 Foundations\n"
      ]
    },
    {
      "cell_type": "markdown",
      "id": "470988dd",
      "metadata": {
        "id": "470988dd"
      },
      "source": [
        "# 2.2 Working in Two Dimensions (2D)\n"
      ]
    },
    {
      "cell_type": "markdown",
      "id": "a09d2f95",
      "metadata": {
        "id": "a09d2f95"
      },
      "source": [
        "## 2.2.1 Orientation in Two Dimensions\n"
      ]
    },
    {
      "cell_type": "markdown",
      "id": "9efe5df0",
      "metadata": {
        "id": "9efe5df0"
      },
      "source": [
        "### 2.2.1.1 2D Rotation Matrix\n"
      ]
    },
    {
      "cell_type": "code",
      "execution_count": 4,
      "id": "c5483e87",
      "metadata": {
        "id": "c5483e87",
        "outputId": "9ea69db4-1aa0-4ad7-c511-51dd5b239ce8",
        "colab": {
          "base_uri": "https://localhost:8080/",
          "height": 141
        }
      },
      "outputs": [
        {
          "output_type": "error",
          "ename": "NameError",
          "evalue": "name 'rot2' is not defined",
          "traceback": [
            "\u001b[0;31m---------------------------------------------------------------------------\u001b[0m",
            "\u001b[0;31mNameError\u001b[0m                                 Traceback (most recent call last)",
            "\u001b[0;32m/tmp/ipython-input-1671203207.py\u001b[0m in \u001b[0;36m<cell line: 0>\u001b[0;34m()\u001b[0m\n\u001b[0;32m----> 1\u001b[0;31m \u001b[0mR\u001b[0m \u001b[0;34m=\u001b[0m \u001b[0mrot2\u001b[0m\u001b[0;34m(\u001b[0m\u001b[0;36m0.3\u001b[0m\u001b[0;34m)\u001b[0m\u001b[0;34m\u001b[0m\u001b[0;34m\u001b[0m\u001b[0m\n\u001b[0m",
            "\u001b[0;31mNameError\u001b[0m: name 'rot2' is not defined"
          ]
        }
      ],
      "source": [
        "R = rot2(0.3)"
      ]
    },
    {
      "cell_type": "code",
      "execution_count": null,
      "id": "64540c28",
      "metadata": {
        "id": "64540c28"
      },
      "outputs": [],
      "source": [
        "plotvol2(new=True)  # for matplotlib/widget\n",
        "trplot2(R);"
      ]
    },
    {
      "cell_type": "code",
      "execution_count": null,
      "id": "5af45966",
      "metadata": {
        "id": "5af45966"
      },
      "outputs": [],
      "source": [
        "np.linalg.det(R)"
      ]
    },
    {
      "cell_type": "code",
      "execution_count": null,
      "id": "c16e841d",
      "metadata": {
        "id": "c16e841d"
      },
      "outputs": [],
      "source": [
        "np.linalg.det(R @ R)"
      ]
    },
    {
      "cell_type": "code",
      "execution_count": null,
      "id": "e310167d",
      "metadata": {
        "id": "e310167d"
      },
      "outputs": [],
      "source": [
        "from sympy import Symbol, Matrix, simplify, pprint\n",
        "theta = Symbol('theta')\n",
        "R = Matrix(rot2(theta))  # convert to SymPy matrix"
      ]
    },
    {
      "cell_type": "code",
      "execution_count": null,
      "id": "7258a4db",
      "metadata": {
        "id": "7258a4db"
      },
      "outputs": [],
      "source": [
        "simplify(R * R)"
      ]
    },
    {
      "cell_type": "code",
      "execution_count": null,
      "id": "3b01396b",
      "metadata": {
        "id": "3b01396b"
      },
      "outputs": [],
      "source": [
        "R.det()"
      ]
    },
    {
      "cell_type": "code",
      "execution_count": null,
      "id": "e67d0f7c",
      "metadata": {
        "id": "e67d0f7c"
      },
      "outputs": [],
      "source": [
        "R.det().simplify()"
      ]
    },
    {
      "cell_type": "markdown",
      "id": "9b39fceb",
      "metadata": {
        "id": "9b39fceb"
      },
      "source": [
        "### 2.2.1.2 Matrix Exponential for Rotation\n"
      ]
    },
    {
      "cell_type": "code",
      "execution_count": null,
      "id": "31f1d102",
      "metadata": {
        "id": "31f1d102"
      },
      "outputs": [],
      "source": [
        "R = rot2(0.3);"
      ]
    },
    {
      "cell_type": "code",
      "execution_count": null,
      "id": "f19d040c",
      "metadata": {
        "id": "f19d040c"
      },
      "outputs": [],
      "source": [
        "L = linalg.logm(R)  # using linalg package of SciPy"
      ]
    },
    {
      "cell_type": "code",
      "execution_count": null,
      "id": "a9a341f8",
      "metadata": {
        "id": "a9a341f8"
      },
      "outputs": [],
      "source": [
        "S = vex(L)"
      ]
    },
    {
      "cell_type": "code",
      "execution_count": null,
      "id": "77731ef6",
      "metadata": {
        "id": "77731ef6"
      },
      "outputs": [],
      "source": [
        "X = skew(2)"
      ]
    },
    {
      "cell_type": "code",
      "execution_count": null,
      "id": "86db1b29",
      "metadata": {
        "id": "86db1b29"
      },
      "outputs": [],
      "source": [
        "vex(X)"
      ]
    },
    {
      "cell_type": "code",
      "execution_count": null,
      "id": "3508ab12",
      "metadata": {
        "id": "3508ab12"
      },
      "outputs": [],
      "source": [
        "linalg.expm(L)"
      ]
    },
    {
      "cell_type": "code",
      "execution_count": null,
      "id": "cec4db4a",
      "metadata": {
        "id": "cec4db4a"
      },
      "outputs": [],
      "source": [
        "linalg.expm(skew(S))"
      ]
    },
    {
      "cell_type": "markdown",
      "id": "87688725",
      "metadata": {
        "id": "87688725"
      },
      "source": [
        "## 2.2.2 Pose in Two Dimensions\n"
      ]
    },
    {
      "cell_type": "markdown",
      "id": "055de8ed",
      "metadata": {
        "id": "055de8ed"
      },
      "source": [
        "### 2.2.2.1 2D Homogeneous Transformation Matrix\n"
      ]
    },
    {
      "cell_type": "code",
      "execution_count": null,
      "id": "b018f9a7",
      "metadata": {
        "id": "b018f9a7"
      },
      "outputs": [],
      "source": [
        "rot2(0.3)"
      ]
    },
    {
      "cell_type": "code",
      "execution_count": null,
      "id": "909d6608",
      "metadata": {
        "id": "909d6608"
      },
      "outputs": [],
      "source": [
        "trot2(0.3)"
      ]
    },
    {
      "cell_type": "code",
      "execution_count": null,
      "id": "7319f76a",
      "metadata": {
        "id": "7319f76a"
      },
      "outputs": [],
      "source": [
        "TA = transl2(1, 2) @ trot2(30, \"deg\")"
      ]
    },
    {
      "cell_type": "code",
      "execution_count": null,
      "id": "79d9175b",
      "metadata": {
        "id": "79d9175b"
      },
      "outputs": [],
      "source": [
        "plotvol2([0, 5], new=True); # new plot with both axes from 0 to 5\n",
        "trplot2(TA, frame=\"A\", color=\"b\");\n",
        "T0 = transl2(0, 0);\n",
        "trplot2(T0, frame=\"0\", color=\"k\");  # reference frame\n",
        "TB = transl2(2, 1)\n",
        "trplot2(TB, frame=\"B\", color=\"r\");\n",
        "TAB = TA @ TB\n",
        "trplot2(TAB, frame=\"AB\", color=\"g\");\n",
        "TBA = TB @ TA;\n",
        "trplot2(TBA, frame=\"BA\", color=\"c\");\n",
        "P = np.array([3, 2]);\n",
        "plot_point(P, \"ko\", label=\"P\");"
      ]
    },
    {
      "cell_type": "code",
      "execution_count": null,
      "id": "edcaf26b",
      "metadata": {
        "id": "edcaf26b"
      },
      "outputs": [],
      "source": [
        "print(TA)\n",
        "print(P)\n",
        "np.linalg.inv(TA) @ np.hstack([P, 1])"
      ]
    },
    {
      "cell_type": "code",
      "execution_count": null,
      "id": "5c994de2",
      "metadata": {
        "id": "5c994de2"
      },
      "outputs": [],
      "source": [
        "h2e(np.linalg.inv(TA) @ e2h(P))"
      ]
    },
    {
      "cell_type": "code",
      "execution_count": null,
      "id": "2d49d780",
      "metadata": {
        "id": "2d49d780"
      },
      "outputs": [],
      "source": [
        "homtrans(np.linalg.inv(TA), P)"
      ]
    },
    {
      "cell_type": "markdown",
      "id": "84d879f8",
      "metadata": {
        "id": "84d879f8"
      },
      "source": [
        "### 2.2.2.2 Rotating a Coordinate Frame\n"
      ]
    },
    {
      "cell_type": "code",
      "execution_count": null,
      "id": "3bfe12ca",
      "metadata": {
        "id": "3bfe12ca"
      },
      "outputs": [],
      "source": [
        "plotvol2([-5, 4, -1, 5], new=True);  # for matplotlib/widget\n",
        "T0 = transl2(0, 0);\n",
        "trplot2(T0, frame=\"0\", color=\"k\");\n",
        "TX = transl2(2, 3);\n",
        "trplot2(TX, frame=\"X\", color=\"b\");\n",
        "TR = trot2(2);\n",
        "trplot2(TR @ TX, framelabel=\"RX\", color=\"g\");\n",
        "trplot2(TX @ TR, framelabel=\"XR\", color=\"g\");\n",
        "C = np.array([3, 2]);\n",
        "plot_point(C, \"ko\", text=\"C\");\n",
        "TC = transl2(C) @ TR @ transl2(-C)\n",
        "trplot2(TC @ TX, framelabel=\"XC\", color=\"r\");"
      ]
    },
    {
      "cell_type": "markdown",
      "id": "cd1b5baa",
      "metadata": {
        "id": "cd1b5baa"
      },
      "source": [
        "### 2.2.2.3 Matrix exponential for Pose\n"
      ]
    },
    {
      "cell_type": "code",
      "execution_count": null,
      "id": "ed8e7626",
      "metadata": {
        "id": "ed8e7626"
      },
      "outputs": [],
      "source": [
        "L = linalg.logm(TC)"
      ]
    },
    {
      "cell_type": "code",
      "execution_count": null,
      "id": "134d047a",
      "metadata": {
        "id": "134d047a"
      },
      "outputs": [],
      "source": [
        "S = vexa(L)"
      ]
    },
    {
      "cell_type": "code",
      "execution_count": null,
      "id": "bcef0ac8",
      "metadata": {
        "id": "bcef0ac8"
      },
      "outputs": [],
      "source": [
        "linalg.expm(skewa(S))"
      ]
    },
    {
      "cell_type": "code",
      "execution_count": null,
      "id": "8c3345ba",
      "metadata": {
        "id": "8c3345ba"
      },
      "outputs": [],
      "source": [
        "X = skewa([1, 2, 3])"
      ]
    },
    {
      "cell_type": "code",
      "execution_count": null,
      "id": "b0571db2",
      "metadata": {
        "id": "b0571db2"
      },
      "outputs": [],
      "source": [
        "vexa(X)"
      ]
    },
    {
      "cell_type": "markdown",
      "id": "1c53c8fb",
      "metadata": {
        "id": "1c53c8fb"
      },
      "source": [
        "### 2.2.2.4 2D Twists\n"
      ]
    },
    {
      "cell_type": "code",
      "execution_count": null,
      "id": "5e10e01c",
      "metadata": {
        "id": "5e10e01c"
      },
      "outputs": [],
      "source": [
        "S = Twist2.UnitRevolute(C)"
      ]
    },
    {
      "cell_type": "code",
      "execution_count": null,
      "id": "5aff09e3",
      "metadata": {
        "id": "5aff09e3"
      },
      "outputs": [],
      "source": [
        "linalg.expm(skewa(2 * S.S))"
      ]
    },
    {
      "cell_type": "code",
      "execution_count": null,
      "id": "75b4a37f",
      "metadata": {
        "id": "75b4a37f"
      },
      "outputs": [],
      "source": [
        "S.exp(2)"
      ]
    },
    {
      "cell_type": "code",
      "execution_count": null,
      "id": "1d759daa",
      "metadata": {
        "id": "1d759daa"
      },
      "outputs": [],
      "source": [
        "S.pole"
      ]
    },
    {
      "cell_type": "code",
      "execution_count": null,
      "id": "3a201e7a",
      "metadata": {
        "id": "3a201e7a"
      },
      "outputs": [],
      "source": [
        "S = Twist2.UnitPrismatic([0, 1])"
      ]
    },
    {
      "cell_type": "code",
      "execution_count": null,
      "id": "9f45a848",
      "metadata": {
        "id": "9f45a848"
      },
      "outputs": [],
      "source": [
        "S.exp(2)"
      ]
    },
    {
      "cell_type": "code",
      "execution_count": null,
      "id": "979ff0aa",
      "metadata": {
        "id": "979ff0aa"
      },
      "outputs": [],
      "source": [
        "T = transl2(3, 4) @ trot2(0.5)"
      ]
    },
    {
      "cell_type": "code",
      "execution_count": null,
      "id": "f1387dec",
      "metadata": {
        "id": "f1387dec"
      },
      "outputs": [],
      "source": [
        "S = Twist2(T)"
      ]
    },
    {
      "cell_type": "code",
      "execution_count": null,
      "id": "32bc8c36",
      "metadata": {
        "id": "32bc8c36"
      },
      "outputs": [],
      "source": [
        "S.w"
      ]
    },
    {
      "cell_type": "code",
      "execution_count": null,
      "id": "c40397de",
      "metadata": {
        "id": "c40397de"
      },
      "outputs": [],
      "source": [
        "S.pole"
      ]
    },
    {
      "cell_type": "code",
      "execution_count": null,
      "id": "ab1f355b",
      "metadata": {
        "id": "ab1f355b"
      },
      "outputs": [],
      "source": [
        "S.exp(1)"
      ]
    },
    {
      "cell_type": "markdown",
      "id": "26a02f07",
      "metadata": {
        "id": "26a02f07"
      },
      "source": [
        "# 2.3 Working in Three Dimensions (3D)\n"
      ]
    },
    {
      "cell_type": "markdown",
      "id": "bf8037f4",
      "metadata": {
        "id": "bf8037f4"
      },
      "source": [
        "## 2.3.1 Orientation in Three Dimensions\n"
      ]
    },
    {
      "cell_type": "markdown",
      "id": "9bbb219d",
      "metadata": {
        "id": "9bbb219d"
      },
      "source": [
        "### 2.3.1.1 3D Rotation Matrix\n"
      ]
    },
    {
      "cell_type": "code",
      "execution_count": null,
      "id": "1bfaea18",
      "metadata": {
        "id": "1bfaea18"
      },
      "outputs": [],
      "source": [
        "R = rotx(pi / 2)"
      ]
    },
    {
      "cell_type": "code",
      "execution_count": null,
      "id": "424a2cec",
      "metadata": {
        "id": "424a2cec"
      },
      "outputs": [],
      "source": [
        "plotvol3(new=True)  # for matplotlib/widget\n",
        "trplot(R);"
      ]
    },
    {
      "cell_type": "code",
      "execution_count": null,
      "id": "1ee4b844",
      "metadata": {
        "id": "1ee4b844"
      },
      "outputs": [],
      "source": [
        "# tranimate(R)\n",
        "plotvol3(new=True)  # for matplotlib/widget\n",
        "HTML(tranimate(R, movie=True, dim=1.5))"
      ]
    },
    {
      "cell_type": "markdown",
      "id": "ef8ac1d8",
      "metadata": {
        "id": "ef8ac1d8"
      },
      "source": [
        "<span style=\"background-color:red; font-size:20pt\">NOTE</span>\n",
        "\n",
        "Robust, portable animation in Jupyter notebooks is challenging.  Here we use an option to `tranimate` that causes it to return the animation as a snippet of HTML5 which is then displayed\n",
        "```\n",
        "HTML(tranimate(R, movie=True))\n",
        "```\n",
        "If you wish to animate a coordinate frame from a regular Python script use the simpler syntax\n",
        "```\n",
        "tranimate(R)\n",
        "```\n"
      ]
    },
    {
      "cell_type": "code",
      "execution_count": null,
      "id": "58c33ce8",
      "metadata": {
        "id": "58c33ce8"
      },
      "outputs": [],
      "source": [
        "plotvol3(new=True)  # for matplotlib/widget\n",
        "trplot(R, anaglyph=True)"
      ]
    },
    {
      "cell_type": "code",
      "execution_count": null,
      "id": "30d32e00",
      "metadata": {
        "id": "30d32e00"
      },
      "outputs": [],
      "source": [
        "plotvol3(new=True)  # for matplotlib/widget\n",
        "HTML(tranimate(R, anaglyph=True, movie=True, dim=1.5))"
      ]
    },
    {
      "cell_type": "code",
      "execution_count": null,
      "id": "8d1cb73c",
      "metadata": {
        "id": "8d1cb73c"
      },
      "outputs": [],
      "source": [
        "R = rotx(pi / 2) @ roty(pi / 2)\n",
        "trplot(R);"
      ]
    },
    {
      "cell_type": "code",
      "execution_count": null,
      "id": "2f9cbf31",
      "metadata": {
        "id": "2f9cbf31"
      },
      "outputs": [],
      "source": [
        "Ryx = roty(pi / 2) @ rotx(pi / 2)"
      ]
    },
    {
      "cell_type": "code",
      "execution_count": null,
      "id": "3e6a5906",
      "metadata": {
        "id": "3e6a5906"
      },
      "outputs": [],
      "source": [
        "plotvol3(new=True)  # for matplotlib/widget\n",
        "trplot(Ryx);"
      ]
    },
    {
      "cell_type": "markdown",
      "id": "58c87b1b",
      "metadata": {
        "id": "58c87b1b"
      },
      "source": [
        "### 2.3.1.2 Three-Angle Representations\n"
      ]
    },
    {
      "cell_type": "code",
      "execution_count": null,
      "id": "5e989fcb",
      "metadata": {
        "id": "5e989fcb"
      },
      "outputs": [],
      "source": [
        "R = rotz(0.1) @ roty(0.2) @ rotz(0.3);"
      ]
    },
    {
      "cell_type": "code",
      "execution_count": null,
      "id": "cf1dd849",
      "metadata": {
        "id": "cf1dd849"
      },
      "outputs": [],
      "source": [
        "R = eul2r(0.1, 0.2, 0.3)"
      ]
    },
    {
      "cell_type": "code",
      "execution_count": null,
      "id": "046b7a14",
      "metadata": {
        "id": "046b7a14"
      },
      "outputs": [],
      "source": [
        "gamma = tr2eul(R)"
      ]
    },
    {
      "cell_type": "code",
      "execution_count": null,
      "id": "92ee36eb",
      "metadata": {
        "id": "92ee36eb"
      },
      "outputs": [],
      "source": [
        "R = eul2r(0.1, -0.2, 0.3)"
      ]
    },
    {
      "cell_type": "code",
      "execution_count": null,
      "id": "fde5c3c0",
      "metadata": {
        "id": "fde5c3c0"
      },
      "outputs": [],
      "source": [
        "gamma = tr2eul(R)"
      ]
    },
    {
      "cell_type": "code",
      "execution_count": null,
      "id": "25f28dec",
      "metadata": {
        "id": "25f28dec"
      },
      "outputs": [],
      "source": [
        "eul2r(gamma)"
      ]
    },
    {
      "cell_type": "code",
      "execution_count": null,
      "id": "fb21bb5b",
      "metadata": {
        "id": "fb21bb5b"
      },
      "outputs": [],
      "source": [
        "R = eul2r(0.1, 0, 0.3)"
      ]
    },
    {
      "cell_type": "code",
      "execution_count": null,
      "id": "d662beb2",
      "metadata": {
        "id": "d662beb2"
      },
      "outputs": [],
      "source": [
        "tr2eul(R)"
      ]
    },
    {
      "cell_type": "code",
      "execution_count": null,
      "id": "77bd0546",
      "metadata": {
        "id": "77bd0546"
      },
      "outputs": [],
      "source": [
        "R = rpy2r(0.1, 0.2, 0.3, order=\"zyx\")"
      ]
    },
    {
      "cell_type": "code",
      "execution_count": null,
      "id": "cafc941b",
      "metadata": {
        "id": "cafc941b"
      },
      "outputs": [],
      "source": [
        "gamma = tr2rpy(R, order=\"zyx\")"
      ]
    },
    {
      "cell_type": "code",
      "execution_count": null,
      "id": "9e0c0b74",
      "metadata": {
        "id": "9e0c0b74"
      },
      "outputs": [],
      "source": [
        "R = rpy2r(0.1, 0.2, 0.3, order=\"xyz\")"
      ]
    },
    {
      "cell_type": "code",
      "execution_count": null,
      "id": "43843ceb",
      "metadata": {
        "id": "43843ceb"
      },
      "outputs": [],
      "source": [
        "gamma = tr2rpy(R, order=\"xyz\")"
      ]
    },
    {
      "cell_type": "markdown",
      "id": "941e7e1b",
      "metadata": {
        "id": "941e7e1b"
      },
      "source": [
        "<span style=\"background-color:red; font-size:20pt\">NOTE</span>\n",
        "\n",
        "The next cell will launch an interactive tool (using the Swift visualizer) in a new browser tab.  Close the browser tab when you are done with it.\n",
        "\n",
        "You might also have to stop the cell from executing, by pressing the stop button for the cell. It may terminate with lots of errors, don't panic."
      ]
    },
    {
      "cell_type": "code",
      "execution_count": null,
      "id": "81fe596f",
      "metadata": {
        "id": "81fe596f"
      },
      "outputs": [],
      "source": [
        "if COLAB or not SWIFT:\n",
        "    print(\"we can't run this demo from the Colab environment (yet)\")\n",
        "else:\n",
        "    %run -m tripleangledemo"
      ]
    },
    {
      "cell_type": "markdown",
      "id": "5659bd11",
      "metadata": {
        "id": "5659bd11"
      },
      "source": [
        "### 2.3.1.3 Singularities and Gimbal Lock\n"
      ]
    },
    {
      "cell_type": "markdown",
      "id": "c34b143f",
      "metadata": {
        "id": "c34b143f"
      },
      "source": [
        "### 2.3.1.4 Two-Vector Representation\n"
      ]
    },
    {
      "cell_type": "code",
      "execution_count": null,
      "id": "d42e7aed",
      "metadata": {
        "id": "d42e7aed"
      },
      "outputs": [],
      "source": [
        "a = [0, 0, -1]"
      ]
    },
    {
      "cell_type": "code",
      "execution_count": null,
      "id": "5f471c77",
      "metadata": {
        "id": "5f471c77"
      },
      "outputs": [],
      "source": [
        "o = [1, 1, 0]"
      ]
    },
    {
      "cell_type": "code",
      "execution_count": null,
      "id": "b2ae1c1e",
      "metadata": {
        "id": "b2ae1c1e"
      },
      "outputs": [],
      "source": [
        "R = oa2r(o, a)"
      ]
    },
    {
      "cell_type": "markdown",
      "id": "1e89da75",
      "metadata": {
        "id": "1e89da75"
      },
      "source": [
        "### 2.3.1.5 Rotation about an Arbitrary Vector\n"
      ]
    },
    {
      "cell_type": "code",
      "execution_count": null,
      "id": "2577da8c",
      "metadata": {
        "id": "2577da8c"
      },
      "outputs": [],
      "source": [
        "R = rpy2r(0.1, 0.2, 0.3);"
      ]
    },
    {
      "cell_type": "code",
      "execution_count": null,
      "id": "2be19376",
      "metadata": {
        "id": "2be19376"
      },
      "outputs": [],
      "source": [
        "theta, v = tr2angvec(R)"
      ]
    },
    {
      "cell_type": "code",
      "execution_count": null,
      "id": "9854152d",
      "metadata": {
        "id": "9854152d"
      },
      "outputs": [],
      "source": [
        "theta"
      ]
    },
    {
      "cell_type": "code",
      "execution_count": null,
      "id": "fb457f07",
      "metadata": {
        "id": "fb457f07"
      },
      "outputs": [],
      "source": [
        "v"
      ]
    },
    {
      "cell_type": "code",
      "execution_count": null,
      "id": "a8e0dc79",
      "metadata": {
        "id": "a8e0dc79"
      },
      "outputs": [],
      "source": [
        "e, x = np.linalg.eig(R)"
      ]
    },
    {
      "cell_type": "code",
      "execution_count": null,
      "id": "c86dd524",
      "metadata": {
        "id": "c86dd524"
      },
      "outputs": [],
      "source": [
        "e"
      ]
    },
    {
      "cell_type": "code",
      "execution_count": null,
      "id": "28722551",
      "metadata": {
        "id": "28722551"
      },
      "outputs": [],
      "source": [
        "x"
      ]
    },
    {
      "cell_type": "code",
      "execution_count": null,
      "id": "72187994",
      "metadata": {
        "id": "72187994"
      },
      "outputs": [],
      "source": [
        "theta = np.angle(e[0])"
      ]
    },
    {
      "cell_type": "code",
      "execution_count": null,
      "id": "a569a8f3",
      "metadata": {
        "id": "a569a8f3"
      },
      "outputs": [],
      "source": [
        "R = angvec2r(0.3, [1, 0, 0])"
      ]
    },
    {
      "cell_type": "markdown",
      "id": "eae0d700",
      "metadata": {
        "id": "eae0d700"
      },
      "source": [
        "### 2.3.1.6 Matrix Exponential for Rotation\n"
      ]
    },
    {
      "cell_type": "code",
      "execution_count": null,
      "id": "6951d4a6",
      "metadata": {
        "id": "6951d4a6"
      },
      "outputs": [],
      "source": [
        "R = rotx(0.3)"
      ]
    },
    {
      "cell_type": "code",
      "execution_count": null,
      "id": "65881227",
      "metadata": {
        "id": "65881227"
      },
      "outputs": [],
      "source": [
        "L = linalg.logm(R)"
      ]
    },
    {
      "cell_type": "code",
      "execution_count": null,
      "id": "ace7a108",
      "metadata": {
        "id": "ace7a108"
      },
      "outputs": [],
      "source": [
        "S = vex(L)"
      ]
    },
    {
      "cell_type": "code",
      "execution_count": null,
      "id": "2d6187e3",
      "metadata": {
        "id": "2d6187e3"
      },
      "outputs": [],
      "source": [
        "L = trlog(R);"
      ]
    },
    {
      "cell_type": "code",
      "execution_count": null,
      "id": "6fa59f7b",
      "metadata": {
        "id": "6fa59f7b"
      },
      "outputs": [],
      "source": [
        "linalg.expm(L)"
      ]
    },
    {
      "cell_type": "code",
      "execution_count": null,
      "id": "38638554",
      "metadata": {
        "id": "38638554"
      },
      "outputs": [],
      "source": [
        "trexp(L);"
      ]
    },
    {
      "cell_type": "code",
      "execution_count": null,
      "id": "f45a04b9",
      "metadata": {
        "id": "f45a04b9"
      },
      "outputs": [],
      "source": [
        "linalg.expm(skew(S))"
      ]
    },
    {
      "cell_type": "code",
      "execution_count": null,
      "id": "6d77dbfd",
      "metadata": {
        "id": "6d77dbfd"
      },
      "outputs": [],
      "source": [
        "R = rotx(0.3);"
      ]
    },
    {
      "cell_type": "code",
      "execution_count": null,
      "id": "a263d94b",
      "metadata": {
        "id": "a263d94b"
      },
      "outputs": [],
      "source": [
        "R = linalg.expm(0.3 * skew([1, 0, 0]));"
      ]
    },
    {
      "cell_type": "code",
      "execution_count": null,
      "id": "70011333",
      "metadata": {
        "id": "70011333"
      },
      "outputs": [],
      "source": [
        "X = skew([1, 2, 3])"
      ]
    },
    {
      "cell_type": "code",
      "execution_count": null,
      "id": "5444a763",
      "metadata": {
        "id": "5444a763"
      },
      "outputs": [],
      "source": [
        "vex(X)"
      ]
    },
    {
      "cell_type": "markdown",
      "id": "87d0d0dc",
      "metadata": {
        "id": "87d0d0dc"
      },
      "source": [
        "### 2.3.1.7 Unit Quaternions\n"
      ]
    },
    {
      "cell_type": "code",
      "execution_count": null,
      "id": "126b7bbf",
      "metadata": {
        "id": "126b7bbf"
      },
      "outputs": [],
      "source": [
        "q = UnitQuaternion(rpy2r(0.1, 0.2, 0.3))"
      ]
    },
    {
      "cell_type": "code",
      "execution_count": null,
      "id": "7542f730",
      "metadata": {
        "id": "7542f730"
      },
      "outputs": [],
      "source": [
        "q = q * q;"
      ]
    },
    {
      "cell_type": "code",
      "execution_count": null,
      "id": "f7b183d5",
      "metadata": {
        "id": "f7b183d5"
      },
      "outputs": [],
      "source": [
        "q.inv()"
      ]
    },
    {
      "cell_type": "code",
      "execution_count": null,
      "id": "844b0564",
      "metadata": {
        "id": "844b0564"
      },
      "outputs": [],
      "source": [
        "q * q.inv()"
      ]
    },
    {
      "cell_type": "code",
      "execution_count": null,
      "id": "36709904",
      "metadata": {
        "id": "36709904"
      },
      "outputs": [],
      "source": [
        "q / q"
      ]
    },
    {
      "cell_type": "code",
      "execution_count": null,
      "id": "53410f72",
      "metadata": {
        "id": "53410f72"
      },
      "outputs": [],
      "source": [
        "q.R"
      ]
    },
    {
      "cell_type": "code",
      "execution_count": null,
      "id": "8f57ffb4",
      "metadata": {
        "id": "8f57ffb4"
      },
      "outputs": [],
      "source": [
        "q * [1, 0, 0]"
      ]
    },
    {
      "cell_type": "code",
      "execution_count": null,
      "id": "7e95c736",
      "metadata": {
        "id": "7e95c736"
      },
      "outputs": [],
      "source": [
        "plotvol3(new=True)  # for matplotlib/widget\n",
        "q.plot();"
      ]
    },
    {
      "cell_type": "markdown",
      "id": "32ff989b",
      "metadata": {
        "id": "32ff989b"
      },
      "source": [
        "## 2.3.2 Pose in Three Dimensions\n"
      ]
    },
    {
      "cell_type": "markdown",
      "id": "1207ddf7",
      "metadata": {
        "id": "1207ddf7"
      },
      "source": [
        "### 2.3.2.1 Homogeneous Transformation Matrix\n"
      ]
    },
    {
      "cell_type": "code",
      "execution_count": null,
      "id": "220c3cae",
      "metadata": {
        "id": "220c3cae"
      },
      "outputs": [],
      "source": [
        "T = transl(2, 0, 0) @ trotx(pi / 2) @ transl(0, 1, 0)"
      ]
    },
    {
      "cell_type": "code",
      "execution_count": null,
      "id": "9766e56a",
      "metadata": {
        "id": "9766e56a"
      },
      "outputs": [],
      "source": [
        "plotvol3(new=True)  # for matplotlib/widget\n",
        "trplot(T);"
      ]
    },
    {
      "cell_type": "code",
      "execution_count": null,
      "id": "c9fb9992",
      "metadata": {
        "id": "c9fb9992"
      },
      "outputs": [],
      "source": [
        "t2r(T)"
      ]
    },
    {
      "cell_type": "code",
      "execution_count": null,
      "id": "10aac3e0",
      "metadata": {
        "id": "10aac3e0"
      },
      "outputs": [],
      "source": [
        "transl(T)"
      ]
    },
    {
      "cell_type": "markdown",
      "id": "8af10b40",
      "metadata": {
        "id": "8af10b40"
      },
      "source": [
        "### 2.3.2.2 Matrix exponential for Pose\n"
      ]
    },
    {
      "cell_type": "code",
      "execution_count": null,
      "id": "7a45dbb9",
      "metadata": {
        "id": "7a45dbb9"
      },
      "outputs": [],
      "source": [
        "T = transl(2, 3, 4) @ trotx(0.3)"
      ]
    },
    {
      "cell_type": "code",
      "execution_count": null,
      "id": "4656e369",
      "metadata": {
        "id": "4656e369"
      },
      "outputs": [],
      "source": [
        "L = linalg.logm(T)"
      ]
    },
    {
      "cell_type": "code",
      "execution_count": null,
      "id": "a9e11fdd",
      "metadata": {
        "id": "a9e11fdd"
      },
      "outputs": [],
      "source": [
        "S = vexa(L)"
      ]
    },
    {
      "cell_type": "code",
      "execution_count": null,
      "id": "4e33da81",
      "metadata": {
        "id": "4e33da81"
      },
      "outputs": [],
      "source": [
        "linalg.expm(skewa(S))"
      ]
    },
    {
      "cell_type": "code",
      "execution_count": null,
      "id": "6c150a70",
      "metadata": {
        "id": "6c150a70"
      },
      "outputs": [],
      "source": [
        "X = skewa([1, 2, 3, 4, 5, 6])"
      ]
    },
    {
      "cell_type": "code",
      "execution_count": null,
      "id": "905cfa13",
      "metadata": {
        "id": "905cfa13"
      },
      "outputs": [],
      "source": [
        "vexa(X)"
      ]
    },
    {
      "cell_type": "markdown",
      "id": "d2509d69",
      "metadata": {
        "id": "d2509d69"
      },
      "source": [
        "### 2.3.2.3 3D Twists\n"
      ]
    },
    {
      "cell_type": "code",
      "execution_count": null,
      "id": "34771835",
      "metadata": {
        "id": "34771835"
      },
      "outputs": [],
      "source": [
        "S = Twist3.UnitRevolute([1, 0, 0], [0, 0, 0])"
      ]
    },
    {
      "cell_type": "code",
      "execution_count": null,
      "id": "5be081af",
      "metadata": {
        "id": "5be081af"
      },
      "outputs": [],
      "source": [
        "linalg.expm(0.3 * skewa(S.S));  # different to book, see §2.2.1.2"
      ]
    },
    {
      "cell_type": "code",
      "execution_count": null,
      "id": "e46c22b7",
      "metadata": {
        "id": "e46c22b7"
      },
      "outputs": [],
      "source": [
        "S.exp(0.3)"
      ]
    },
    {
      "cell_type": "code",
      "execution_count": null,
      "id": "fde2289f",
      "metadata": {
        "id": "fde2289f"
      },
      "outputs": [],
      "source": [
        "S = Twist3.UnitRevolute([0, 0, 1], [2, 3, 2], 0.5)"
      ]
    },
    {
      "cell_type": "code",
      "execution_count": null,
      "id": "7d5e15c2",
      "metadata": {
        "id": "7d5e15c2"
      },
      "outputs": [],
      "source": [
        "X = transl(3, 4, -4);"
      ]
    },
    {
      "cell_type": "code",
      "execution_count": null,
      "id": "ace2dd37",
      "metadata": {
        "id": "ace2dd37"
      },
      "outputs": [],
      "source": [
        "for theta in np.arange(0, 15, 0.3):\n",
        "  trplot(S.exp(theta).A @ X, style=\"rviz\", width=2)\n",
        "\n",
        "L = S.line()\n",
        "L.plot('k:', linewidth=2);\n"
      ]
    },
    {
      "cell_type": "code",
      "execution_count": null,
      "id": "dcd011d0",
      "metadata": {
        "id": "dcd011d0"
      },
      "outputs": [],
      "source": [
        "S = Twist3.UnitPrismatic([0, 1, 0])"
      ]
    },
    {
      "cell_type": "code",
      "execution_count": null,
      "id": "6f5aa456",
      "metadata": {
        "id": "6f5aa456"
      },
      "outputs": [],
      "source": [
        "S.exp(2)"
      ]
    },
    {
      "cell_type": "code",
      "execution_count": null,
      "id": "a6c9a477",
      "metadata": {
        "id": "a6c9a477"
      },
      "outputs": [],
      "source": [
        "T = transl(1, 2, 3) @ eul2tr(0.3, 0.4, 0.5);\n",
        "S = Twist3(T)"
      ]
    },
    {
      "cell_type": "code",
      "execution_count": null,
      "id": "a54b9d44",
      "metadata": {
        "id": "a54b9d44"
      },
      "outputs": [],
      "source": [
        "S.w"
      ]
    },
    {
      "cell_type": "code",
      "execution_count": null,
      "id": "a4ecbeaa",
      "metadata": {
        "id": "a4ecbeaa"
      },
      "outputs": [],
      "source": [
        "S.pole"
      ]
    },
    {
      "cell_type": "code",
      "execution_count": null,
      "id": "5ecda422",
      "metadata": {
        "id": "5ecda422"
      },
      "outputs": [],
      "source": [
        "S.pitch"
      ]
    },
    {
      "cell_type": "code",
      "execution_count": null,
      "id": "c3c03a18",
      "metadata": {
        "id": "c3c03a18"
      },
      "outputs": [],
      "source": [
        "S.theta"
      ]
    },
    {
      "cell_type": "markdown",
      "id": "1c28aa8a",
      "metadata": {
        "id": "1c28aa8a"
      },
      "source": [
        "# 2.4 Advanced Topics\n"
      ]
    },
    {
      "cell_type": "markdown",
      "id": "79abcd16",
      "metadata": {
        "id": "79abcd16"
      },
      "source": [
        "## 2.4.5 Distance Between Orientations\n"
      ]
    },
    {
      "cell_type": "code",
      "execution_count": null,
      "id": "9ba255b5",
      "metadata": {
        "id": "9ba255b5"
      },
      "outputs": [],
      "source": [
        "UnitQuaternion.Rx(pi / 2).angdist(UnitQuaternion.Rz(-pi / 2))"
      ]
    },
    {
      "cell_type": "markdown",
      "id": "7bed38da",
      "metadata": {
        "id": "7bed38da"
      },
      "source": [
        "## 2.4.6 Normalization\n"
      ]
    },
    {
      "cell_type": "code",
      "execution_count": null,
      "id": "1bfb56e9",
      "metadata": {
        "id": "1bfb56e9"
      },
      "outputs": [],
      "source": [
        "R = np.eye(3,3);\n",
        "np.linalg.det(R) - 1"
      ]
    },
    {
      "cell_type": "code",
      "execution_count": null,
      "id": "ad37d946",
      "metadata": {
        "id": "ad37d946"
      },
      "outputs": [],
      "source": [
        "for i in range(100):\n",
        "  R = R @ rpy2r(0.2, 0.3, 0.4);\n",
        "np.linalg.det(R) - 1"
      ]
    },
    {
      "cell_type": "code",
      "execution_count": null,
      "id": "50153ac8",
      "metadata": {
        "id": "50153ac8"
      },
      "outputs": [],
      "source": [
        "R = trnorm(R);"
      ]
    },
    {
      "cell_type": "code",
      "execution_count": null,
      "id": "9cc46fe4",
      "metadata": {
        "id": "9cc46fe4"
      },
      "outputs": [],
      "source": [
        "np.linalg.det(R) - 1"
      ]
    },
    {
      "cell_type": "code",
      "execution_count": null,
      "id": "7d9bd6c9",
      "metadata": {
        "id": "7d9bd6c9"
      },
      "outputs": [],
      "source": [
        "q = q.unit();"
      ]
    },
    {
      "cell_type": "code",
      "execution_count": null,
      "id": "499334cf",
      "metadata": {
        "id": "499334cf"
      },
      "outputs": [],
      "source": [
        "# T = T1 @ T2\n",
        "# q = q1 @ q2"
      ]
    },
    {
      "cell_type": "markdown",
      "id": "41c8ccdc",
      "metadata": {
        "id": "41c8ccdc"
      },
      "source": [
        "## 2.4.8 More About Twists\n"
      ]
    },
    {
      "cell_type": "code",
      "execution_count": null,
      "id": "21bf10e0",
      "metadata": {
        "id": "21bf10e0"
      },
      "outputs": [],
      "source": [
        "S = Twist3.UnitRevolute([1, 0, 0], [0, 0, 0])"
      ]
    },
    {
      "cell_type": "code",
      "execution_count": null,
      "id": "c5ece89c",
      "metadata": {
        "id": "c5ece89c"
      },
      "outputs": [],
      "source": [
        "S.S\n",
        "S.v\n",
        "S.w"
      ]
    },
    {
      "cell_type": "code",
      "execution_count": null,
      "id": "707f6f6f",
      "metadata": {
        "id": "707f6f6f"
      },
      "outputs": [],
      "source": [
        "S.skewa()"
      ]
    },
    {
      "cell_type": "code",
      "execution_count": null,
      "id": "f9407ee3",
      "metadata": {
        "id": "f9407ee3"
      },
      "outputs": [],
      "source": [
        "trexp(0.3 * S.skewa())"
      ]
    },
    {
      "cell_type": "code",
      "execution_count": null,
      "id": "dafadf8b",
      "metadata": {
        "id": "dafadf8b"
      },
      "outputs": [],
      "source": [
        "S.exp(0.3)"
      ]
    },
    {
      "cell_type": "code",
      "execution_count": null,
      "id": "d7dc57d1",
      "metadata": {
        "id": "d7dc57d1"
      },
      "outputs": [],
      "source": [
        "S2 = S * S\n",
        "S2.printline(orient=\"angvec\", unit=\"rad\")"
      ]
    },
    {
      "cell_type": "code",
      "execution_count": null,
      "id": "c87041f0",
      "metadata": {
        "id": "c87041f0"
      },
      "outputs": [],
      "source": [
        "line = S.line()"
      ]
    },
    {
      "cell_type": "code",
      "execution_count": null,
      "id": "9ad8efc7",
      "metadata": {
        "id": "9ad8efc7"
      },
      "outputs": [],
      "source": [
        "plotvol3([-5, 5], new=True)  # setup volume in which to display the line\n",
        "line.plot(\"k:\", linewidth=2);"
      ]
    },
    {
      "cell_type": "code",
      "execution_count": null,
      "id": "14b6cfe6",
      "metadata": {
        "id": "14b6cfe6"
      },
      "outputs": [],
      "source": [
        "T = transl(1, 2, 3) @ eul2tr(0.3, 0.4, 0.5);\n",
        "S = Twist3(T)"
      ]
    },
    {
      "cell_type": "code",
      "execution_count": null,
      "id": "e30bb7ff",
      "metadata": {
        "id": "e30bb7ff"
      },
      "outputs": [],
      "source": [
        "S / S.theta"
      ]
    },
    {
      "cell_type": "code",
      "execution_count": null,
      "id": "ca81e287",
      "metadata": {
        "id": "ca81e287"
      },
      "outputs": [],
      "source": [
        "S.unit();"
      ]
    },
    {
      "cell_type": "code",
      "execution_count": null,
      "id": "311428f1",
      "metadata": {
        "id": "311428f1"
      },
      "outputs": [],
      "source": [
        "S.exp(0)"
      ]
    },
    {
      "cell_type": "code",
      "execution_count": null,
      "id": "72d0f3e3",
      "metadata": {
        "id": "72d0f3e3"
      },
      "outputs": [],
      "source": [
        "S.exp(1)"
      ]
    },
    {
      "cell_type": "code",
      "execution_count": null,
      "id": "97474ccb",
      "metadata": {
        "id": "97474ccb"
      },
      "outputs": [],
      "source": [
        "S.exp(0.5)"
      ]
    },
    {
      "cell_type": "markdown",
      "id": "17a75aef",
      "metadata": {
        "id": "17a75aef"
      },
      "source": [
        "<span style=\"background-color:red; font-size:20pt\">NOTE</span>\n",
        "\n",
        "The next cell will launch an interactive tool (using the Swift visualizer) in a new browser tab.  Close the browser tab when you are done with it.\n",
        "\n",
        "You might also have to stop the cell from executing, by pressing the stop button for the cell. It may terminate with lots of errors, don't panic."
      ]
    },
    {
      "cell_type": "code",
      "execution_count": null,
      "id": "ca6fcaee",
      "metadata": {
        "id": "ca6fcaee"
      },
      "outputs": [],
      "source": [
        "if COLAB or not SWIFT:\n",
        "    print(\"we can't run this demo from the Colab environment (yet)\")\n",
        "else:\n",
        "    %run -m twistdemo"
      ]
    },
    {
      "cell_type": "markdown",
      "id": "5898e246",
      "metadata": {
        "id": "5898e246"
      },
      "source": [
        "# 2.5 Using the Toolbox\n"
      ]
    },
    {
      "cell_type": "code",
      "execution_count": null,
      "id": "97b30b70",
      "metadata": {
        "id": "97b30b70"
      },
      "outputs": [],
      "source": [
        "from spatialmath.base import *"
      ]
    },
    {
      "cell_type": "code",
      "execution_count": null,
      "id": "24e5ddca",
      "metadata": {
        "id": "24e5ddca"
      },
      "outputs": [],
      "source": [
        "from spatialmath import *"
      ]
    },
    {
      "cell_type": "code",
      "execution_count": null,
      "id": "733dff8b",
      "metadata": {
        "id": "733dff8b"
      },
      "outputs": [],
      "source": [
        "R = rotx(0.3)  # create SO(3) matrix as NumPy array\n",
        "type(R)\n",
        "R = SO3.Rx(0.3)  # create SO3 object\n",
        "type(R)"
      ]
    },
    {
      "cell_type": "code",
      "execution_count": null,
      "id": "4006df6a",
      "metadata": {
        "id": "4006df6a"
      },
      "outputs": [],
      "source": [
        "R.A"
      ]
    },
    {
      "cell_type": "code",
      "execution_count": null,
      "id": "825b3479",
      "metadata": {
        "id": "825b3479"
      },
      "outputs": [],
      "source": [
        "R = SO3(rotx(0.3));                   # convert an SO(3) matrix\n",
        "R = SO3.Rz(0.3);                      # rotation about z-axis\n",
        "R = SO3.RPY(10, 20, 30, unit=\"deg\");  # from roll-pitch-yaw angles\n",
        "R = SO3.AngleAxis(0.3, (1, 0, 0));    # from angle and rotation axis\n",
        "R = SO3.EulerVec((0.3, 0, 0));        # from an Euler vector"
      ]
    },
    {
      "cell_type": "code",
      "execution_count": null,
      "id": "1f5c5fa1",
      "metadata": {
        "id": "1f5c5fa1"
      },
      "outputs": [],
      "source": [
        "R.rpy();        # convert to roll-pitch-yaw angles\n",
        "R.eul();        # convert to Euler angles\n",
        "R.printline();  # compact single-line print"
      ]
    },
    {
      "cell_type": "code",
      "execution_count": null,
      "id": "5684a982",
      "metadata": {
        "id": "5684a982"
      },
      "outputs": [],
      "source": [
        "R = SO3.RPY(10, 20, 30, unit=\"deg\");             # create an SO(3) rotation\n",
        "T = SE3.RPY(10, 20, 30, unit=\"deg\");             # create a purely rotational SE(3)\n",
        "S = Twist3.RPY(10, 20, 30, unit=\"deg\");          # create a purely rotational twist\n",
        "q = UnitQuaternion.RPY(10, 20, 30, unit=\"deg\");  # create a unit quaternion"
      ]
    },
    {
      "cell_type": "code",
      "execution_count": null,
      "id": "b112713d",
      "metadata": {
        "id": "b112713d"
      },
      "outputs": [],
      "source": [
        "TA = SE2(1, 2) * SE2(30, unit=\"deg\");\n",
        "type(TA)"
      ]
    },
    {
      "cell_type": "code",
      "execution_count": null,
      "id": "d8f4a5ef",
      "metadata": {
        "id": "d8f4a5ef"
      },
      "outputs": [],
      "source": [
        "TA"
      ]
    },
    {
      "cell_type": "code",
      "execution_count": null,
      "id": "ac480c83",
      "metadata": {
        "id": "ac480c83"
      },
      "outputs": [],
      "source": [
        "TA = SE2(1, 2, 30, unit=\"deg\");"
      ]
    },
    {
      "cell_type": "code",
      "execution_count": null,
      "id": "f77fb728",
      "metadata": {
        "id": "f77fb728"
      },
      "outputs": [],
      "source": [
        "TA.R\n",
        "TA.t"
      ]
    },
    {
      "cell_type": "code",
      "execution_count": null,
      "id": "39a6e052",
      "metadata": {
        "id": "39a6e052"
      },
      "outputs": [],
      "source": [
        "plotvol2(new=True)  # for matplotlib/widget\n",
        "TA.plot(frame=\"A\", color=\"b\");"
      ]
    },
    {
      "cell_type": "code",
      "execution_count": null,
      "id": "f080b400",
      "metadata": {
        "id": "f080b400"
      },
      "outputs": [],
      "source": [
        "TA.printline()"
      ]
    },
    {
      "cell_type": "code",
      "execution_count": null,
      "id": "b168b518",
      "metadata": {
        "id": "b168b518"
      },
      "outputs": [],
      "source": [
        "P = [3, 2];\n",
        "TA.inv() * P"
      ]
    },
    {
      "cell_type": "code",
      "execution_count": null,
      "id": "a9680b61",
      "metadata": {
        "id": "a9680b61"
      },
      "outputs": [],
      "source": [
        "R = SO3.Rx(np.linspace(0, 1, 5));\n",
        "len(R)\n",
        "R[3]"
      ]
    },
    {
      "cell_type": "code",
      "execution_count": null,
      "id": "e9485386",
      "metadata": {
        "id": "e9485386"
      },
      "outputs": [],
      "source": [
        "R * [1, 2, 3]"
      ]
    }
  ],
  "metadata": {
    "jupytext": {
      "cell_metadata_filter": "-all",
      "main_language": "python",
      "notebook_metadata_filter": "-all"
    },
    "kernelspec": {
      "display_name": "dev",
      "language": "python",
      "name": "python3"
    },
    "language_info": {
      "codemirror_mode": {
        "name": "ipython",
        "version": 3
      },
      "file_extension": ".py",
      "mimetype": "text/x-python",
      "name": "python",
      "nbconvert_exporter": "python",
      "pygments_lexer": "ipython3",
      "version": "3.10.9"
    },
    "vscode": {
      "interpreter": {
        "hash": "b7d6b0d76025b9176285a6442c3dd6dd39bcfe7241029b7898b7106bd5e9b472"
      }
    },
    "colab": {
      "provenance": []
    }
  },
  "nbformat": 4,
  "nbformat_minor": 5
}